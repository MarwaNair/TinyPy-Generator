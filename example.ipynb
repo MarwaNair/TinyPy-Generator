{
 "cells": [
  {
   "cell_type": "markdown",
   "metadata": {},
   "source": [
    "# Example of program generation "
   ]
  },
  {
   "cell_type": "code",
   "execution_count": 1,
   "metadata": {},
   "outputs": [],
   "source": [
    "from io import StringIO\n",
    "from contextlib import redirect_stdout\n",
    "from code_generator import CodeGenerator"
   ]
  },
  {
   "cell_type": "code",
   "execution_count": 2,
   "metadata": {},
   "outputs": [],
   "source": [
    "# Instantiate CodeGenerator\n",
    "code_generator = CodeGenerator()  "
   ]
  },
  {
   "cell_type": "code",
   "execution_count": 3,
   "metadata": {},
   "outputs": [
    {
     "name": "stdout",
     "output_type": "stream",
     "text": [
      "l = 1\n",
      "z = 4\n",
      "w = 6 * 6\n",
      "print(l + z)\n",
      "\n",
      "ROOT\n",
      "└── LEVEL1.1\n",
      "    ├── IDENTIFIER_INITIALIZATION\n",
      "    │   ├── IDENTIFIER_INITIALIZATION\n",
      "    │   │   ├── VARIABLE\n",
      "    │   │   │   └── l\n",
      "    │   │   ├── SPACE\n",
      "    │   │   ├── EQUALS\n",
      "    │   │   │   └── =\n",
      "    │   │   ├── SPACE\n",
      "    │   │   ├── DIGIT\n",
      "    │   │   │   └── 1\n",
      "    │   │   └── NEW_LINE\n",
      "    │   │       └── \n",
      "\n",
      "    │   └── INITIALIZATION\n",
      "    │       ├── VARIABLE\n",
      "    │       │   └── z\n",
      "    │       ├── SPACE\n",
      "    │       ├── EQUALS\n",
      "    │       │   └── =\n",
      "    │       ├── SPACE\n",
      "    │       ├── DIGIT\n",
      "    │       │   └── 4\n",
      "    │       └── NEW_LINE\n",
      "    │           └── \n",
      "\n",
      "    ├── SIMPLE_ASSIGNMENTS\n",
      "    │   ├── VARIABLE\n",
      "    │   │   └── w\n",
      "    │   ├── SPACE\n",
      "    │   ├── EQUALS\n",
      "    │   │   └── =\n",
      "    │   ├── SPACE\n",
      "    │   ├── EXPRESSION\n",
      "    │   │   ├── TERM\n",
      "    │   │   │   └── DIGIT\n",
      "    │   │   │       └── 6\n",
      "    │   │   ├── SPACE\n",
      "    │   │   ├── OPERATOR\n",
      "    │   │   │   └── ARITHMETIC_OPERATOR\n",
      "    │   │   │       └── *\n",
      "    │   │   ├── SPACE\n",
      "    │   │   └── TERM\n",
      "    │   │       └── DIGIT\n",
      "    │   │           └── 6\n",
      "    │   └── NEW_LINE\n",
      "    │       └── \n",
      "\n",
      "    └── ADVANCED_DISPLAY\n",
      "        ├── PRINT\n",
      "        │   └── print\n",
      "        ├── BRACKET_OPEN\n",
      "        │   └── (\n",
      "        ├── DISPLAY_EXPRESSION\n",
      "        │   ├── EXPRESSION_IDENTIFIER\n",
      "        │   ├── SPACE\n",
      "        │   ├── OPERATOR\n",
      "        │   │   └── ARITHMETIC_OPERATOR\n",
      "        │   │       └── +\n",
      "        │   ├── SPACE\n",
      "        │   └── EXPRESSION_IDENTIFIER\n",
      "        └── BRACKET_CLOSE\n",
      "            └── )\n"
     ]
    }
   ],
   "source": [
    "# Specify level and initialization count\n",
    "level = \"1.1\"\n",
    "\n",
    "# Generate program\n",
    "root, program = code_generator.generate_program(level)\n",
    "\n",
    "# Print code \n",
    "print(f\"{program}\\n\")\n",
    "\n",
    "# Print syntax tree\n",
    "code_generator.print_tree(root)\n"
   ]
  }
 ],
 "metadata": {
  "kernelspec": {
   "display_name": "Tiny Language Model",
   "language": "python",
   "name": "venv"
  },
  "language_info": {
   "codemirror_mode": {
    "name": "ipython",
    "version": 3
   },
   "file_extension": ".py",
   "mimetype": "text/x-python",
   "name": "python",
   "nbconvert_exporter": "python",
   "pygments_lexer": "ipython3",
   "version": "3.8.6"
  }
 },
 "nbformat": 4,
 "nbformat_minor": 4
}
